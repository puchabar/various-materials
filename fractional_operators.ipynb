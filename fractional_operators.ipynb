{
 "cells": [
  {
   "cell_type": "markdown",
   "metadata": {},
   "source": [
    "# Examples of using Variable-Order Fractional Calculus (VO-FC) operators for integration and differentiation of time series signals"
   ]
  },
  {
   "cell_type": "markdown",
   "metadata": {},
   "source": [
    "## Packages import"
   ]
  },
  {
   "cell_type": "code",
   "execution_count": 67,
   "metadata": {},
   "outputs": [],
   "source": [
    "import numpy as np\n",
    "import matplotlib.pyplot as plt\n",
    "import random\n"
   ]
  },
  {
   "cell_type": "markdown",
   "metadata": {},
   "source": [
    "## Helper functions definitions"
   ]
  },
  {
   "cell_type": "code",
   "execution_count": 68,
   "metadata": {},
   "outputs": [],
   "source": [
    "def time_vector_generator(sample_time, simulation_end_time):\n",
    "    number_of_samples = int(simulation_end_time / sample_time) + 1\n",
    "    print(\"___________________________________\")\n",
    "    print(f\"Simulation time step: {sample_time}\")\n",
    "    print(f\"Simulation end time: {simulation_end_time}\")\n",
    "    print(f\"Number of simulation samples: {number_of_samples}\")\n",
    "    print(\"___________________________________\")\n",
    "    return np.arange(0, number_of_samples, 1) * sample_time\n"
   ]
  },
  {
   "cell_type": "markdown",
   "metadata": {},
   "source": [
    "## Class definition of an Variable-Order Fractional Calculus (VO-FC) operator  \n",
    "The class was built based on the modified Grünwald-Letnikov definition given below [[1]](https://ieeexplore.ieee.org/abstract/document/9684478)\n",
    "$$\n",
    "\\mathscr {D}^{\\alpha (t)}_{f} f(t) \\approx h^{-\\alpha (t)} \\sum _{k=0}^{\\infty } w_{k}(t) f(t-kh)\n",
    "$$  \n",
    "where $w_k(t)$ are coefficients that can be expressed recursively as:  \n",
    "$$\n",
    "\\begin{align*} w_{0}(t)=&1, \\\\ w_{j}(t)=&\\left ({1-\\frac {\\alpha (t)+1}{j}}\\right)w_{j-1}, \\quad \\text {for} ~j=1,2,\\ldots\\tag{9}\\end{align*}\n",
    "$$"
   ]
  },
  {
   "cell_type": "code",
   "execution_count": 69,
   "metadata": {},
   "outputs": [],
   "source": [
    "def fractional_weights(alpha, m):\n",
    "    if m == 0:\n",
    "        w = np.ones(1)\n",
    "        return w\n",
    "    else:\n",
    "        w = np.zeros(m + 1)\n",
    "        w[0] = 1.0\n",
    "        for i in range(1, m + 1):\n",
    "            w[i] = (1 - ((alpha + 1) / i)) * w[i - 1]\n",
    "        return w\n",
    "\n",
    "\n",
    "class VofidGl:\n",
    "    __slots__ = [\"order\", \"input_signal\", \"model\", \"step\", \"input_len\", \"model_state\", \"dx_dt_memory\"]\n",
    "\n",
    "    def __init__(self, order, input_signal, model):\n",
    "        self.order = order\n",
    "        self.step = model.ts\n",
    "        self.input_signal = input_signal\n",
    "        self.input_len = len(input_signal)\n",
    "        self.model = model\n",
    "        self.model_state = np.zeros_like(input_signal)\n",
    "        self.dx_dt_memory = np.zeros_like(input_signal)\n",
    "\n",
    "    def sim(self):\n",
    "        for i in range(self.input_len - 1):\n",
    "            self.dx_dt_memory[i] = self.model.sim_dx(self.input_signal[i], self.model_state[i])\n",
    "            w = fractional_weights(-self.order[i], i)  # Order changes sign due to integration\n",
    "            self.model_state[i + 1] = (self.step ** (self.order[i])) * (\n",
    "                w @ np.flip(self.dx_dt_memory[: i + 1])\n",
    "            )  # Order changes sign due to integration\n",
    "        return self.model_state\n"
   ]
  },
  {
   "cell_type": "markdown",
   "metadata": {},
   "source": [
    "## Definition of simple integrator class"
   ]
  },
  {
   "cell_type": "code",
   "execution_count": 70,
   "metadata": {},
   "outputs": [],
   "source": [
    "class Integrator:\n",
    "    __slots__ = [\"k\", \"ts\", \"state_no\"]\n",
    "\n",
    "    def __init__(self, k, ts, state_no):\n",
    "        self.k = k\n",
    "        self.ts = ts\n",
    "        self.state_no = state_no  # for future implementation\n",
    "\n",
    "    def sim_dx(self, u, x):\n",
    "        dx = self.k * u\n",
    "        return dx\n"
   ]
  },
  {
   "cell_type": "markdown",
   "metadata": {},
   "source": [
    "## Initialization  \n",
    "Sample time selection and time vector definition "
   ]
  },
  {
   "cell_type": "code",
   "execution_count": 71,
   "metadata": {},
   "outputs": [
    {
     "name": "stdout",
     "output_type": "stream",
     "text": [
      "___________________________________\n",
      "Simulation time step: 0.01\n",
      "Simulation end time: 10\n",
      "Number of simulation samples: 1001\n",
      "___________________________________\n"
     ]
    }
   ],
   "source": [
    "dt = 0.01\n",
    "time_vector = time_vector_generator(dt, 10)\n"
   ]
  },
  {
   "cell_type": "markdown",
   "metadata": {},
   "source": [
    "Creation of order and input signals"
   ]
  },
  {
   "cell_type": "code",
   "execution_count": 72,
   "metadata": {},
   "outputs": [],
   "source": [
    "ord_signal = np.ones_like(time_vector)\n",
    "idx = np.arange(1001)\n",
    "ord_signal[idx <= 500] = 1.0\n",
    "ord_signal[idx > 500] = -1.0\n",
    "input_signal = np.linspace(0, 10, 1001)\n"
   ]
  },
  {
   "cell_type": "markdown",
   "metadata": {},
   "source": [
    "Creation of integrator and VO-FC operator instances"
   ]
  },
  {
   "cell_type": "code",
   "execution_count": 73,
   "metadata": {},
   "outputs": [],
   "source": [
    "integ = Integrator(k=1, ts=dt, state_no=1)\n",
    "deriv = VofidGl(ord_signal, input_signal, integ)\n"
   ]
  },
  {
   "cell_type": "markdown",
   "metadata": {},
   "source": [
    "## Simulation"
   ]
  },
  {
   "cell_type": "code",
   "execution_count": 74,
   "metadata": {},
   "outputs": [],
   "source": [
    "response = deriv.sim()\n"
   ]
  },
  {
   "cell_type": "markdown",
   "metadata": {},
   "source": [
    "## Plot of results"
   ]
  },
  {
   "cell_type": "code",
   "execution_count": 75,
   "metadata": {},
   "outputs": [
    {
     "data": {
      "image/png": "[encoded data removed]",
      "text/plain": [
       "<Figure size 864x648 with 2 Axes>"
      ]
     },
     "metadata": {
      "needs_background": "light"
     },
     "output_type": "display_data"
    }
   ],
   "source": [
    "fig, axs = plt.subplots(nrows=2, ncols=1, figsize=(12, 9))\n",
    "axs[0].plot(time_vector, input_signal, label=\"Input\")\n",
    "axs[0].plot(time_vector, response, label=\"Response\")\n",
    "axs[1].plot(time_vector, ord_signal, label=\"Order\")\n",
    "[ax.grid() for ax in axs]\n",
    "[ax.set_xlabel(\"Time [s]\") for ax in axs]\n",
    "[ax.legend() for ax in axs]\n",
    "fig.set_tight_layout(True)\n",
    "plt.show()\n"
   ]
  },
  {
   "cell_type": "markdown",
   "metadata": {},
   "source": [
    "## References"
   ]
  },
  {
   "cell_type": "markdown",
   "metadata": {},
   "source": [
    "[1] B. Puchalski, \"Neural Approximators for Variable-Order Fractional Calculus Operators (VO-FC),\" in IEEE Access, vol. 10, pp. 7989-8004, 2022, doi: [10.1109/ACCESS.2022.3143893](10.1109/ACCESS.2022.3143893)."
   ]
  }
 ],
 "metadata": {
  "interpreter": {
   "hash": "b846e335854ab72a3b7be38bb41c563297750067dd573b9dd0b51d0e1a332f45"
  },
  "kernelspec": {
   "display_name": "Python 3.9.7 64-bit ('.venv': venv)",
   "language": "python",
   "name": "python3"
  },
  "language_info": {
   "codemirror_mode": {
    "name": "ipython",
    "version": 3
   },
   "file_extension": ".py",
   "mimetype": "text/x-python",
   "name": "python",
   "nbconvert_exporter": "python",
   "pygments_lexer": "ipython3",
   "version": "3.9.7"
  },
  "orig_nbformat": 4
 },
 "nbformat": 4,
 "nbformat_minor": 2
}
